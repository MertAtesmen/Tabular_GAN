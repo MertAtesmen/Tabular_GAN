{
 "cells": [
  {
   "cell_type": "code",
   "execution_count": 1,
   "metadata": {},
   "outputs": [
    {
     "name": "stdout",
     "output_type": "stream",
     "text": [
      "Device: cuda\n"
     ]
    }
   ],
   "source": [
    "import matplotlib.pyplot as plt\n",
    "import seaborn as sns\n",
    "import numpy as np\n",
    "import pandas as pd\n",
    "import torch\n",
    "import os\n",
    "from pathlib import Path\n",
    "\n",
    "device = \"cuda\" if torch.cuda.is_available() else \"cpu\"\n",
    "print(f'Device: {device}')\n",
    "\n",
    "data_folder = Path(\"../../data\")\n",
    "dataset_location = data_folder / \"creditcard.csv\"\n",
    "\n",
    "# Necessary for notebook to see src\n",
    "import sys\n",
    "sys.path.append('../..')\n",
    "\n",
    "from src.visualization import tsne_visualization, pca_visualization"
   ]
  },
  {
   "cell_type": "code",
   "execution_count": 2,
   "metadata": {},
   "outputs": [],
   "source": [
    "original_dataset = pd.read_csv(dataset_location)\n",
    "dataset = original_dataset.copy(deep=True)"
   ]
  },
  {
   "cell_type": "markdown",
   "metadata": {},
   "source": [
    "# Train Test Split"
   ]
  },
  {
   "cell_type": "code",
   "execution_count": 3,
   "metadata": {},
   "outputs": [],
   "source": [
    "from sklearn.model_selection import train_test_split\n",
    "\n",
    "X_train, X_test, y_train, y_test = train_test_split(\n",
    "    dataset.iloc[:, :-1],\n",
    "    dataset.iloc[:, -1],\n",
    "    test_size=0.2,\n",
    "    random_state=42,\n",
    "    shuffle=True,\n",
    "    stratify=dataset.iloc[:, -1]\n",
    ")"
   ]
  },
  {
   "cell_type": "code",
   "execution_count": 4,
   "metadata": {},
   "outputs": [],
   "source": [
    "X_original = pd.concat([X_train, y_train.to_frame()], axis=1)"
   ]
  },
  {
   "cell_type": "markdown",
   "metadata": {},
   "source": [
    "# Synthesizer Model"
   ]
  },
  {
   "cell_type": "code",
   "execution_count": 5,
   "metadata": {},
   "outputs": [
    {
     "data": {
      "text/plain": [
       "{'Time': {'sdtype': 'numerical'},\n",
       " 'V1': {'sdtype': 'numerical'},\n",
       " 'V2': {'sdtype': 'numerical'},\n",
       " 'V3': {'sdtype': 'numerical'},\n",
       " 'V4': {'sdtype': 'numerical'},\n",
       " 'V5': {'sdtype': 'numerical'},\n",
       " 'V6': {'sdtype': 'numerical'},\n",
       " 'V7': {'sdtype': 'numerical'},\n",
       " 'V8': {'sdtype': 'numerical'},\n",
       " 'V9': {'sdtype': 'numerical'},\n",
       " 'V10': {'sdtype': 'numerical'},\n",
       " 'V11': {'sdtype': 'numerical'},\n",
       " 'V12': {'sdtype': 'numerical'},\n",
       " 'V13': {'sdtype': 'numerical'},\n",
       " 'V14': {'sdtype': 'numerical'},\n",
       " 'V15': {'sdtype': 'numerical'},\n",
       " 'V16': {'sdtype': 'numerical'},\n",
       " 'V17': {'sdtype': 'numerical'},\n",
       " 'V18': {'sdtype': 'numerical'},\n",
       " 'V19': {'sdtype': 'numerical'},\n",
       " 'V20': {'sdtype': 'numerical'},\n",
       " 'V21': {'sdtype': 'numerical'},\n",
       " 'V22': {'sdtype': 'numerical'},\n",
       " 'V23': {'sdtype': 'numerical'},\n",
       " 'V24': {'sdtype': 'numerical'},\n",
       " 'V25': {'sdtype': 'numerical'},\n",
       " 'V26': {'sdtype': 'numerical'},\n",
       " 'V27': {'sdtype': 'numerical'},\n",
       " 'V28': {'sdtype': 'numerical'},\n",
       " 'Amount': {'sdtype': 'numerical'},\n",
       " 'Class': {'sdtype': 'categorical'}}"
      ]
     },
     "execution_count": 5,
     "metadata": {},
     "output_type": "execute_result"
    }
   ],
   "source": [
    "from sdv.metadata import SingleTableMetadata\n",
    "\n",
    "metadata = SingleTableMetadata()\n",
    "metadata.detect_from_dataframe(X_original)\n",
    "metadata.columns"
   ]
  },
  {
   "cell_type": "code",
   "execution_count": 6,
   "metadata": {},
   "outputs": [
    {
     "name": "stderr",
     "output_type": "stream",
     "text": [
      "/home/tsmn/anaconda3/envs/gan12/lib/python3.12/site-packages/sdv/single_table/base.py:120: FutureWarning: The 'SingleTableMetadata' is deprecated. Please use the new 'Metadata' class for synthesizers.\n",
      "  warnings.warn(DEPRECATION_MSG, FutureWarning)\n",
      "/home/tsmn/anaconda3/envs/gan12/lib/python3.12/site-packages/sdv/single_table/base.py:105: UserWarning: We strongly recommend saving the metadata using 'save_to_json' for replicability in future SDV versions.\n",
      "  warnings.warn(\n",
      "Loss: -18.721: 100%|██████████| 300/300 [30:00<00:00,  6.00s/it]\n"
     ]
    }
   ],
   "source": [
    "from sdv.single_table import TVAESynthesizer\n",
    "\n",
    "tvae_model = TVAESynthesizer(metadata, epochs=300, verbose=True)\n",
    "\n",
    "tvae_model.fit(X_original) "
   ]
  },
  {
   "cell_type": "code",
   "execution_count": 7,
   "metadata": {},
   "outputs": [
    {
     "name": "stderr",
     "output_type": "stream",
     "text": [
      "Sampling conditions:   1%|          | 1447/227057 [17:26<45:19:46,  1.38it/s]\n"
     ]
    },
    {
     "ename": "KeyboardInterrupt",
     "evalue": "Error: Sampling terminated. No results were saved due to unspecified \"output_file_path\".\n",
     "output_type": "error",
     "traceback": [
      "\u001b[0;31m---------------------------------------------------------------------------\u001b[0m",
      "\u001b[0;31mKeyboardInterrupt\u001b[0m                         Traceback (most recent call last)",
      "File \u001b[0;32m~/anaconda3/envs/gan12/lib/python3.12/site-packages/sdv/single_table/base.py:1173\u001b[0m, in \u001b[0;36mBaseSingleTableSynthesizer.sample_from_conditions\u001b[0;34m(self, conditions, max_tries_per_batch, batch_size, output_file_path)\u001b[0m\n\u001b[1;32m   1172\u001b[0m \u001b[38;5;28;01mfor\u001b[39;00m condition_dataframe \u001b[38;5;129;01min\u001b[39;00m conditions:\n\u001b[0;32m-> 1173\u001b[0m     sampled_for_condition \u001b[38;5;241m=\u001b[39m \u001b[38;5;28mself\u001b[39m\u001b[38;5;241m.\u001b[39m_sample_with_conditions(\n\u001b[1;32m   1174\u001b[0m         condition_dataframe,\n\u001b[1;32m   1175\u001b[0m         max_tries_per_batch,\n\u001b[1;32m   1176\u001b[0m         batch_size,\n\u001b[1;32m   1177\u001b[0m         progress_bar,\n\u001b[1;32m   1178\u001b[0m         output_file_path,\n\u001b[1;32m   1179\u001b[0m     )\n\u001b[1;32m   1180\u001b[0m     sampled \u001b[38;5;241m=\u001b[39m pd\u001b[38;5;241m.\u001b[39mconcat([sampled, sampled_for_condition], ignore_index\u001b[38;5;241m=\u001b[39m\u001b[38;5;28;01mTrue\u001b[39;00m)\n",
      "File \u001b[0;32m~/anaconda3/envs/gan12/lib/python3.12/site-packages/sdv/single_table/base.py:1086\u001b[0m, in \u001b[0;36mBaseSingleTableSynthesizer._sample_with_conditions\u001b[0;34m(self, conditions, max_tries_per_batch, batch_size, progress_bar, output_file_path)\u001b[0m\n\u001b[1;32m   1085\u001b[0m transformed_condition \u001b[38;5;241m=\u001b[39m \u001b[38;5;28mdict\u001b[39m(\u001b[38;5;28mzip\u001b[39m(transformed_columns, transformed_group))\n\u001b[0;32m-> 1086\u001b[0m sampled_rows \u001b[38;5;241m=\u001b[39m \u001b[38;5;28mself\u001b[39m\u001b[38;5;241m.\u001b[39m_conditionally_sample_rows(\n\u001b[1;32m   1087\u001b[0m     dataframe\u001b[38;5;241m=\u001b[39mtransformed_dataframe,\n\u001b[1;32m   1088\u001b[0m     condition\u001b[38;5;241m=\u001b[39mcondition,\n\u001b[1;32m   1089\u001b[0m     transformed_condition\u001b[38;5;241m=\u001b[39mtransformed_condition,\n\u001b[1;32m   1090\u001b[0m     max_tries_per_batch\u001b[38;5;241m=\u001b[39mmax_tries_per_batch,\n\u001b[1;32m   1091\u001b[0m     batch_size\u001b[38;5;241m=\u001b[39mbatch_size,\n\u001b[1;32m   1092\u001b[0m     progress_bar\u001b[38;5;241m=\u001b[39mprogress_bar,\n\u001b[1;32m   1093\u001b[0m     output_file_path\u001b[38;5;241m=\u001b[39moutput_file_path,\n\u001b[1;32m   1094\u001b[0m )\n\u001b[1;32m   1095\u001b[0m all_sampled_rows\u001b[38;5;241m.\u001b[39mappend(sampled_rows)\n",
      "File \u001b[0;32m~/anaconda3/envs/gan12/lib/python3.12/site-packages/sdv/single_table/base.py:885\u001b[0m, in \u001b[0;36mBaseSingleTableSynthesizer._conditionally_sample_rows\u001b[0;34m(self, dataframe, condition, transformed_condition, max_tries_per_batch, batch_size, float_rtol, graceful_reject_sampling, progress_bar, output_file_path)\u001b[0m\n\u001b[1;32m    884\u001b[0m batch_size \u001b[38;5;241m=\u001b[39m batch_size \u001b[38;5;129;01mor\u001b[39;00m \u001b[38;5;28mlen\u001b[39m(dataframe)\n\u001b[0;32m--> 885\u001b[0m sampled_rows \u001b[38;5;241m=\u001b[39m \u001b[38;5;28mself\u001b[39m\u001b[38;5;241m.\u001b[39m_sample_in_batches(\n\u001b[1;32m    886\u001b[0m     num_rows\u001b[38;5;241m=\u001b[39m\u001b[38;5;28mlen\u001b[39m(dataframe),\n\u001b[1;32m    887\u001b[0m     batch_size\u001b[38;5;241m=\u001b[39mbatch_size,\n\u001b[1;32m    888\u001b[0m     max_tries_per_batch\u001b[38;5;241m=\u001b[39mmax_tries_per_batch,\n\u001b[1;32m    889\u001b[0m     conditions\u001b[38;5;241m=\u001b[39mcondition,\n\u001b[1;32m    890\u001b[0m     transformed_conditions\u001b[38;5;241m=\u001b[39mtransformed_condition,\n\u001b[1;32m    891\u001b[0m     float_rtol\u001b[38;5;241m=\u001b[39mfloat_rtol,\n\u001b[1;32m    892\u001b[0m     progress_bar\u001b[38;5;241m=\u001b[39mprogress_bar,\n\u001b[1;32m    893\u001b[0m     output_file_path\u001b[38;5;241m=\u001b[39moutput_file_path,\n\u001b[1;32m    894\u001b[0m )\n\u001b[1;32m    896\u001b[0m \u001b[38;5;28;01mif\u001b[39;00m \u001b[38;5;28mlen\u001b[39m(sampled_rows) \u001b[38;5;241m>\u001b[39m \u001b[38;5;241m0\u001b[39m:\n",
      "File \u001b[0;32m~/anaconda3/envs/gan12/lib/python3.12/site-packages/sdv/single_table/base.py:858\u001b[0m, in \u001b[0;36mBaseSingleTableSynthesizer._sample_in_batches\u001b[0;34m(self, num_rows, batch_size, max_tries_per_batch, conditions, transformed_conditions, float_rtol, progress_bar, output_file_path)\u001b[0m\n\u001b[1;32m    857\u001b[0m \u001b[38;5;28;01mfor\u001b[39;00m step \u001b[38;5;129;01min\u001b[39;00m \u001b[38;5;28mrange\u001b[39m(math\u001b[38;5;241m.\u001b[39mceil(num_rows \u001b[38;5;241m/\u001b[39m batch_size)):\n\u001b[0;32m--> 858\u001b[0m     sampled_rows \u001b[38;5;241m=\u001b[39m \u001b[38;5;28mself\u001b[39m\u001b[38;5;241m.\u001b[39m_sample_batch(\n\u001b[1;32m    859\u001b[0m         batch_size\u001b[38;5;241m=\u001b[39mbatch_size,\n\u001b[1;32m    860\u001b[0m         max_tries\u001b[38;5;241m=\u001b[39mmax_tries_per_batch,\n\u001b[1;32m    861\u001b[0m         conditions\u001b[38;5;241m=\u001b[39mconditions,\n\u001b[1;32m    862\u001b[0m         transformed_conditions\u001b[38;5;241m=\u001b[39mtransformed_conditions,\n\u001b[1;32m    863\u001b[0m         float_rtol\u001b[38;5;241m=\u001b[39mfloat_rtol,\n\u001b[1;32m    864\u001b[0m         progress_bar\u001b[38;5;241m=\u001b[39mprogress_bar,\n\u001b[1;32m    865\u001b[0m         output_file_path\u001b[38;5;241m=\u001b[39moutput_file_path,\n\u001b[1;32m    866\u001b[0m     )\n\u001b[1;32m    867\u001b[0m     sampled\u001b[38;5;241m.\u001b[39mappend(sampled_rows)\n",
      "File \u001b[0;32m~/anaconda3/envs/gan12/lib/python3.12/site-packages/sdv/single_table/base.py:780\u001b[0m, in \u001b[0;36mBaseSingleTableSynthesizer._sample_batch\u001b[0;34m(self, batch_size, max_tries, conditions, transformed_conditions, float_rtol, progress_bar, output_file_path, keep_extra_columns)\u001b[0m\n\u001b[1;32m    779\u001b[0m prev_num_valid \u001b[38;5;241m=\u001b[39m num_valid\n\u001b[0;32m--> 780\u001b[0m sampled, num_valid \u001b[38;5;241m=\u001b[39m \u001b[38;5;28mself\u001b[39m\u001b[38;5;241m.\u001b[39m_sample_rows(\n\u001b[1;32m    781\u001b[0m     num_rows_to_sample,\n\u001b[1;32m    782\u001b[0m     conditions,\n\u001b[1;32m    783\u001b[0m     transformed_conditions,\n\u001b[1;32m    784\u001b[0m     float_rtol,\n\u001b[1;32m    785\u001b[0m     sampled,\n\u001b[1;32m    786\u001b[0m     keep_extra_columns,\n\u001b[1;32m    787\u001b[0m )\n\u001b[1;32m    789\u001b[0m num_new_valid_rows \u001b[38;5;241m=\u001b[39m num_valid \u001b[38;5;241m-\u001b[39m prev_num_valid\n",
      "File \u001b[0;32m~/anaconda3/envs/gan12/lib/python3.12/site-packages/sdv/single_table/base.py:690\u001b[0m, in \u001b[0;36mBaseSingleTableSynthesizer._sample_rows\u001b[0;34m(self, num_rows, conditions, transformed_conditions, float_rtol, previous_rows, keep_extra_columns)\u001b[0m\n\u001b[1;32m    689\u001b[0m         raw_sampled \u001b[38;5;241m=\u001b[39m \u001b[38;5;28mself\u001b[39m\u001b[38;5;241m.\u001b[39m_sample(num_rows)\n\u001b[0;32m--> 690\u001b[0m sampled \u001b[38;5;241m=\u001b[39m \u001b[38;5;28mself\u001b[39m\u001b[38;5;241m.\u001b[39m_data_processor\u001b[38;5;241m.\u001b[39mreverse_transform(raw_sampled)\n\u001b[1;32m    691\u001b[0m \u001b[38;5;28;01mif\u001b[39;00m keep_extra_columns:\n",
      "File \u001b[0;32m~/anaconda3/envs/gan12/lib/python3.12/site-packages/sdv/data_processing/data_processor.py:852\u001b[0m, in \u001b[0;36mDataProcessor.reverse_transform\u001b[0;34m(self, data, reset_keys)\u001b[0m\n\u001b[1;32m    851\u001b[0m     \u001b[38;5;28;01mif\u001b[39;00m \u001b[38;5;129;01mnot\u001b[39;00m data\u001b[38;5;241m.\u001b[39mempty:\n\u001b[0;32m--> 852\u001b[0m         reversed_data \u001b[38;5;241m=\u001b[39m \u001b[38;5;28mself\u001b[39m\u001b[38;5;241m.\u001b[39m_hyper_transformer\u001b[38;5;241m.\u001b[39mreverse_transform_subset(\n\u001b[1;32m    853\u001b[0m             data[reversible_columns]\n\u001b[1;32m    854\u001b[0m         )\n\u001b[1;32m    855\u001b[0m \u001b[38;5;28;01mexcept\u001b[39;00m rdt\u001b[38;5;241m.\u001b[39merrors\u001b[38;5;241m.\u001b[39mNotFittedError:\n",
      "File \u001b[0;32m~/anaconda3/envs/gan12/lib/python3.12/site-packages/rdt/hyper_transformer.py:951\u001b[0m, in \u001b[0;36mHyperTransformer.reverse_transform_subset\u001b[0;34m(self, data)\u001b[0m\n\u001b[1;32m    941\u001b[0m \u001b[38;5;250m\u001b[39m\u001b[38;5;124;03m\"\"\"Revert the transformations for a subset of the fitted columns.\u001b[39;00m\n\u001b[1;32m    942\u001b[0m \n\u001b[1;32m    943\u001b[0m \u001b[38;5;124;03mArgs:\u001b[39;00m\n\u001b[0;32m   (...)\u001b[0m\n\u001b[1;32m    949\u001b[0m \u001b[38;5;124;03m        Reversed subset.\u001b[39;00m\n\u001b[1;32m    950\u001b[0m \u001b[38;5;124;03m\"\"\"\u001b[39;00m\n\u001b[0;32m--> 951\u001b[0m \u001b[38;5;28;01mreturn\u001b[39;00m \u001b[38;5;28mself\u001b[39m\u001b[38;5;241m.\u001b[39m_reverse_transform(data, prevent_subset\u001b[38;5;241m=\u001b[39m\u001b[38;5;28;01mFalse\u001b[39;00m)\n",
      "File \u001b[0;32m~/anaconda3/envs/gan12/lib/python3.12/site-packages/rdt/hyper_transformer.py:934\u001b[0m, in \u001b[0;36mHyperTransformer._reverse_transform\u001b[0;34m(self, data, prevent_subset)\u001b[0m\n\u001b[1;32m    933\u001b[0m         \u001b[38;5;28;01mif\u001b[39;00m output_columns \u001b[38;5;129;01mand\u001b[39;00m \u001b[38;5;28mset\u001b[39m(output_columns)\u001b[38;5;241m.\u001b[39missubset(data\u001b[38;5;241m.\u001b[39mcolumns):\n\u001b[0;32m--> 934\u001b[0m             data \u001b[38;5;241m=\u001b[39m transformer\u001b[38;5;241m.\u001b[39mreverse_transform(data)\n\u001b[1;32m    936\u001b[0m reversed_columns \u001b[38;5;241m=\u001b[39m \u001b[38;5;28mself\u001b[39m\u001b[38;5;241m.\u001b[39m_subset(\u001b[38;5;28mself\u001b[39m\u001b[38;5;241m.\u001b[39m_input_columns, data\u001b[38;5;241m.\u001b[39mcolumns)\n",
      "File \u001b[0;32m~/anaconda3/envs/gan12/lib/python3.12/site-packages/rdt/transformers/base.py:57\u001b[0m, in \u001b[0;36mrandom_state.<locals>.wrapper\u001b[0;34m(self, *args, **kwargs)\u001b[0m\n\u001b[1;32m     56\u001b[0m \u001b[38;5;28;01mwith\u001b[39;00m set_random_states(\u001b[38;5;28mself\u001b[39m\u001b[38;5;241m.\u001b[39mrandom_states, method_name, \u001b[38;5;28mself\u001b[39m\u001b[38;5;241m.\u001b[39mset_random_state):\n\u001b[0;32m---> 57\u001b[0m     \u001b[38;5;28;01mreturn\u001b[39;00m function(\u001b[38;5;28mself\u001b[39m, \u001b[38;5;241m*\u001b[39margs, \u001b[38;5;241m*\u001b[39m\u001b[38;5;241m*\u001b[39mkwargs)\n",
      "File \u001b[0;32m~/anaconda3/envs/gan12/lib/python3.12/site-packages/rdt/transformers/base.py:479\u001b[0m, in \u001b[0;36mBaseTransformer.reverse_transform\u001b[0;34m(self, data)\u001b[0m\n\u001b[1;32m    477\u001b[0m     \u001b[38;5;28;01mreturn\u001b[39;00m data\n\u001b[0;32m--> 479\u001b[0m data \u001b[38;5;241m=\u001b[39m data\u001b[38;5;241m.\u001b[39mcopy()\n\u001b[1;32m    480\u001b[0m columns_data \u001b[38;5;241m=\u001b[39m \u001b[38;5;28mself\u001b[39m\u001b[38;5;241m.\u001b[39m_get_columns_data(data, \u001b[38;5;28mself\u001b[39m\u001b[38;5;241m.\u001b[39moutput_columns)\n",
      "File \u001b[0;32m~/anaconda3/envs/gan12/lib/python3.12/site-packages/pandas/core/generic.py:6811\u001b[0m, in \u001b[0;36mNDFrame.copy\u001b[0;34m(self, deep)\u001b[0m\n\u001b[1;32m   6664\u001b[0m \u001b[38;5;250m\u001b[39m\u001b[38;5;124;03m\"\"\"\u001b[39;00m\n\u001b[1;32m   6665\u001b[0m \u001b[38;5;124;03mMake a copy of this object's indices and data.\u001b[39;00m\n\u001b[1;32m   6666\u001b[0m \n\u001b[0;32m   (...)\u001b[0m\n\u001b[1;32m   6809\u001b[0m \u001b[38;5;124;03mdtype: int64\u001b[39;00m\n\u001b[1;32m   6810\u001b[0m \u001b[38;5;124;03m\"\"\"\u001b[39;00m\n\u001b[0;32m-> 6811\u001b[0m data \u001b[38;5;241m=\u001b[39m \u001b[38;5;28mself\u001b[39m\u001b[38;5;241m.\u001b[39m_mgr\u001b[38;5;241m.\u001b[39mcopy(deep\u001b[38;5;241m=\u001b[39mdeep)\n\u001b[1;32m   6812\u001b[0m \u001b[38;5;28mself\u001b[39m\u001b[38;5;241m.\u001b[39m_clear_item_cache()\n",
      "File \u001b[0;32m~/anaconda3/envs/gan12/lib/python3.12/site-packages/pandas/core/internals/managers.py:604\u001b[0m, in \u001b[0;36mBaseBlockManager.copy\u001b[0;34m(self, deep)\u001b[0m\n\u001b[1;32m    603\u001b[0m \u001b[38;5;28;01mif\u001b[39;00m deep:\n\u001b[0;32m--> 604\u001b[0m     res\u001b[38;5;241m.\u001b[39m_consolidate_inplace()\n\u001b[1;32m    605\u001b[0m \u001b[38;5;28;01mreturn\u001b[39;00m res\n",
      "File \u001b[0;32m~/anaconda3/envs/gan12/lib/python3.12/site-packages/pandas/core/internals/managers.py:1788\u001b[0m, in \u001b[0;36mBlockManager._consolidate_inplace\u001b[0;34m(self)\u001b[0m\n\u001b[1;32m   1787\u001b[0m \u001b[38;5;28;01mif\u001b[39;00m \u001b[38;5;129;01mnot\u001b[39;00m \u001b[38;5;28mself\u001b[39m\u001b[38;5;241m.\u001b[39mis_consolidated():\n\u001b[0;32m-> 1788\u001b[0m     \u001b[38;5;28mself\u001b[39m\u001b[38;5;241m.\u001b[39mblocks \u001b[38;5;241m=\u001b[39m _consolidate(\u001b[38;5;28mself\u001b[39m\u001b[38;5;241m.\u001b[39mblocks)\n\u001b[1;32m   1789\u001b[0m     \u001b[38;5;28mself\u001b[39m\u001b[38;5;241m.\u001b[39m_is_consolidated \u001b[38;5;241m=\u001b[39m \u001b[38;5;28;01mTrue\u001b[39;00m\n",
      "File \u001b[0;32m~/anaconda3/envs/gan12/lib/python3.12/site-packages/pandas/core/internals/managers.py:2269\u001b[0m, in \u001b[0;36m_consolidate\u001b[0;34m(blocks)\u001b[0m\n\u001b[1;32m   2268\u001b[0m \u001b[38;5;28;01mfor\u001b[39;00m (_can_consolidate, dtype), group_blocks \u001b[38;5;129;01min\u001b[39;00m grouper:\n\u001b[0;32m-> 2269\u001b[0m     merged_blocks, _ \u001b[38;5;241m=\u001b[39m _merge_blocks(\n\u001b[1;32m   2270\u001b[0m         \u001b[38;5;28mlist\u001b[39m(group_blocks), dtype\u001b[38;5;241m=\u001b[39mdtype, can_consolidate\u001b[38;5;241m=\u001b[39m_can_consolidate\n\u001b[1;32m   2271\u001b[0m     )\n\u001b[1;32m   2272\u001b[0m     new_blocks \u001b[38;5;241m=\u001b[39m extend_blocks(merged_blocks, new_blocks)\n",
      "File \u001b[0;32m~/anaconda3/envs/gan12/lib/python3.12/site-packages/pandas/core/internals/managers.py:2304\u001b[0m, in \u001b[0;36m_merge_blocks\u001b[0;34m(blocks, dtype, can_consolidate)\u001b[0m\n\u001b[1;32m   2302\u001b[0m new_mgr_locs \u001b[38;5;241m=\u001b[39m new_mgr_locs[argsort]\n\u001b[0;32m-> 2304\u001b[0m bp \u001b[38;5;241m=\u001b[39m BlockPlacement(new_mgr_locs)\n\u001b[1;32m   2305\u001b[0m \u001b[38;5;28;01mreturn\u001b[39;00m [new_block_2d(new_values, placement\u001b[38;5;241m=\u001b[39mbp)], \u001b[38;5;28;01mTrue\u001b[39;00m\n",
      "\u001b[0;31mKeyboardInterrupt\u001b[0m: ",
      "\nDuring handling of the above exception, another exception occurred:\n",
      "\u001b[0;31mKeyboardInterrupt\u001b[0m                         Traceback (most recent call last)",
      "Cell \u001b[0;32mIn[7], line 5\u001b[0m\n\u001b[1;32m      1\u001b[0m \u001b[38;5;28;01mimport\u001b[39;00m \u001b[38;5;21;01msdv\u001b[39;00m\n\u001b[1;32m      3\u001b[0m num_rows_to_generate \u001b[38;5;241m=\u001b[39m \u001b[38;5;28mlen\u001b[39m(X_original[X_original[\u001b[38;5;124m'\u001b[39m\u001b[38;5;124mClass\u001b[39m\u001b[38;5;124m'\u001b[39m] \u001b[38;5;241m==\u001b[39m \u001b[38;5;241m0\u001b[39m]) \u001b[38;5;241m-\u001b[39m \u001b[38;5;28mlen\u001b[39m(X_original[X_original[\u001b[38;5;124m'\u001b[39m\u001b[38;5;124mClass\u001b[39m\u001b[38;5;124m'\u001b[39m] \u001b[38;5;241m==\u001b[39m \u001b[38;5;241m1\u001b[39m])\n\u001b[0;32m----> 5\u001b[0m minority_class \u001b[38;5;241m=\u001b[39m tvae_model\u001b[38;5;241m.\u001b[39msample_from_conditions(conditions\u001b[38;5;241m=\u001b[39m[sdv\u001b[38;5;241m.\u001b[39msampling\u001b[38;5;241m.\u001b[39mCondition(column_values\u001b[38;5;241m=\u001b[39m{\u001b[38;5;124m'\u001b[39m\u001b[38;5;124mClass\u001b[39m\u001b[38;5;124m'\u001b[39m: \u001b[38;5;241m1\u001b[39m}, num_rows\u001b[38;5;241m=\u001b[39mnum_rows_to_generate)])\n",
      "File \u001b[0;32m~/anaconda3/envs/gan12/lib/python3.12/site-packages/sdv/single_table/base.py:1193\u001b[0m, in \u001b[0;36mBaseSingleTableSynthesizer.sample_from_conditions\u001b[0;34m(self, conditions, max_tries_per_batch, batch_size, output_file_path)\u001b[0m\n\u001b[1;32m   1185\u001b[0m     check_num_rows(\n\u001b[1;32m   1186\u001b[0m         num_rows\u001b[38;5;241m=\u001b[39m\u001b[38;5;28mlen\u001b[39m(sampled),\n\u001b[1;32m   1187\u001b[0m         expected_num_rows\u001b[38;5;241m=\u001b[39mnum_rows,\n\u001b[1;32m   1188\u001b[0m         is_reject_sampling\u001b[38;5;241m=\u001b[39mis_reject_sampling,\n\u001b[1;32m   1189\u001b[0m         max_tries_per_batch\u001b[38;5;241m=\u001b[39mmax_tries_per_batch,\n\u001b[1;32m   1190\u001b[0m     )\n\u001b[1;32m   1192\u001b[0m \u001b[38;5;28;01mexcept\u001b[39;00m (\u001b[38;5;167;01mException\u001b[39;00m, \u001b[38;5;167;01mKeyboardInterrupt\u001b[39;00m) \u001b[38;5;28;01mas\u001b[39;00m error:\n\u001b[0;32m-> 1193\u001b[0m     handle_sampling_error(output_file_path, error)\n\u001b[1;32m   1195\u001b[0m \u001b[38;5;28;01mreturn\u001b[39;00m sampled\n",
      "File \u001b[0;32m~/anaconda3/envs/gan12/lib/python3.12/site-packages/sdv/single_table/utils.py:106\u001b[0m, in \u001b[0;36mhandle_sampling_error\u001b[0;34m(output_file_path, sampling_error)\u001b[0m\n\u001b[1;32m    100\u001b[0m     error_msg \u001b[38;5;241m=\u001b[39m (\n\u001b[1;32m    101\u001b[0m         \u001b[38;5;124m'\u001b[39m\u001b[38;5;124mError: Sampling terminated. No results were saved due to unspecified \u001b[39m\u001b[38;5;124m'\u001b[39m\n\u001b[1;32m    102\u001b[0m         \u001b[38;5;124m'\u001b[39m\u001b[38;5;124m\"\u001b[39m\u001b[38;5;124moutput_file_path\u001b[39m\u001b[38;5;124m\"\u001b[39m\u001b[38;5;124m.\u001b[39m\u001b[38;5;124m'\u001b[39m\n\u001b[1;32m    103\u001b[0m     )\n\u001b[1;32m    105\u001b[0m \u001b[38;5;28;01mif\u001b[39;00m error_msg:\n\u001b[0;32m--> 106\u001b[0m     \u001b[38;5;28;01mraise\u001b[39;00m \u001b[38;5;28mtype\u001b[39m(sampling_error)(error_msg \u001b[38;5;241m+\u001b[39m \u001b[38;5;124m'\u001b[39m\u001b[38;5;130;01m\\n\u001b[39;00m\u001b[38;5;124m'\u001b[39m \u001b[38;5;241m+\u001b[39m \u001b[38;5;28mstr\u001b[39m(sampling_error))\n\u001b[1;32m    108\u001b[0m \u001b[38;5;28;01mraise\u001b[39;00m sampling_error\n",
      "\u001b[0;31mKeyboardInterrupt\u001b[0m: Error: Sampling terminated. No results were saved due to unspecified \"output_file_path\".\n"
     ]
    }
   ],
   "source": [
    "import sdv\n",
    "\n",
    "num_rows_to_generate = len(X_original[X_original['Class'] == 0]) - len(X_original[X_original['Class'] == 1])\n",
    "\n",
    "minority_class = tvae_model.sample_from_conditions(conditions=[sdv.sampling.Condition(column_values={'Class': 1}, num_rows=num_rows_to_generate)])"
   ]
  },
  {
   "cell_type": "code",
   "execution_count": null,
   "metadata": {},
   "outputs": [],
   "source": [
    "synhtetic_dataset = pd.concat([X_original, minority_class], axis=0)\n",
    "X_synhtetic, y_synhtetic = synhtetic_dataset.iloc[:, :-1], synhtetic_dataset.iloc[:, -1]"
   ]
  },
  {
   "cell_type": "markdown",
   "metadata": {},
   "source": [
    "# Train Set"
   ]
  },
  {
   "cell_type": "code",
   "execution_count": null,
   "metadata": {},
   "outputs": [
    {
     "name": "stdout",
     "output_type": "stream",
     "text": [
      "F1:     0.8449\n",
      "Precision:     0.8876\n",
      "Recall:     0.8061\n"
     ]
    }
   ],
   "source": [
    "from xgboost import XGBClassifier\n",
    "from sklearn.metrics import f1_score, precision_score, recall_score\n",
    "\n",
    "original_model = XGBClassifier(device=device, verbosity=2)\n",
    "\n",
    "original_model.fit(X_train, y_train)\n",
    "prediction = original_model.predict(X_test)\n",
    "\n",
    "\n",
    "print(f'F1: {f1_score(y_true=y_test, y_pred=prediction):>10.4f}')\n",
    "print(f'Precision: {precision_score(y_true=y_test, y_pred=prediction):>10.4f}')\n",
    "print(f'Recall: {recall_score(y_true=y_test, y_pred=prediction):>10.4f}')"
   ]
  },
  {
   "cell_type": "code",
   "execution_count": null,
   "metadata": {},
   "outputs": [
    {
     "name": "stdout",
     "output_type": "stream",
     "text": [
      "F1:     0.6052\n",
      "Precision:     0.4740\n",
      "Recall:     0.8367\n"
     ]
    }
   ],
   "source": [
    "synhtetic_model = XGBClassifier(device=device, verbosity=2)\n",
    "\n",
    "synhtetic_model.fit(X_synhtetic, y_synhtetic)\n",
    "prediction = synhtetic_model.predict(X_test)\n",
    "\n",
    "\n",
    "print(f'F1: {f1_score(y_true=y_test, y_pred=prediction):>10.4f}')\n",
    "print(f'Precision: {precision_score(y_true=y_test, y_pred=prediction):>10.4f}')\n",
    "print(f'Recall: {recall_score(y_true=y_test, y_pred=prediction):>10.4f}')"
   ]
  },
  {
   "cell_type": "code",
   "execution_count": null,
   "metadata": {},
   "outputs": [],
   "source": []
  }
 ],
 "metadata": {
  "kernelspec": {
   "display_name": "gan12",
   "language": "python",
   "name": "python3"
  },
  "language_info": {
   "codemirror_mode": {
    "name": "ipython",
    "version": 3
   },
   "file_extension": ".py",
   "mimetype": "text/x-python",
   "name": "python",
   "nbconvert_exporter": "python",
   "pygments_lexer": "ipython3",
   "version": "3.12.2"
  }
 },
 "nbformat": 4,
 "nbformat_minor": 2
}
