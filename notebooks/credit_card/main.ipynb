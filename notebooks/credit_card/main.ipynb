{
 "cells": [
  {
   "cell_type": "code",
   "execution_count": 1,
   "metadata": {},
   "outputs": [
    {
     "name": "stdout",
     "output_type": "stream",
     "text": [
      "Device: cuda\n"
     ]
    }
   ],
   "source": [
    "import matplotlib.pyplot as plt\n",
    "import seaborn as sns\n",
    "import numpy as np\n",
    "import pandas as pd\n",
    "import torch\n",
    "import os\n",
    "from pathlib import Path\n",
    "\n",
    "device = \"cuda\" if torch.cuda.is_available() else \"cpu\"\n",
    "print(f'Device: {device}')\n",
    "\n",
    "data_folder = Path(\"../../data\")\n",
    "dataset_location = data_folder / \"creditcard.csv\"\n",
    "\n",
    "# Necessary for notebook to see src\n",
    "import sys\n",
    "sys.path.append('../..')\n",
    "\n",
    "from src.visualization import tsne_visualization, pca_visualization"
   ]
  },
  {
   "cell_type": "code",
   "execution_count": 2,
   "metadata": {},
   "outputs": [],
   "source": [
    "original_dataset = pd.read_csv(dataset_location)\n",
    "dataset = original_dataset.copy(deep=True)"
   ]
  },
  {
   "cell_type": "markdown",
   "metadata": {},
   "source": [
    "# Train Test Split"
   ]
  },
  {
   "cell_type": "code",
   "execution_count": 3,
   "metadata": {},
   "outputs": [],
   "source": [
    "from sklearn.model_selection import train_test_split\n",
    "\n",
    "X_train, X_test, y_train, y_test = train_test_split(\n",
    "    dataset.iloc[:, :-1],\n",
    "    dataset.iloc[:, -1],\n",
    "    test_size=0.2,\n",
    "    random_state=42,\n",
    "    shuffle=True,\n",
    "    stratify=dataset.iloc[:, -1]\n",
    ")"
   ]
  },
  {
   "cell_type": "code",
   "execution_count": 4,
   "metadata": {},
   "outputs": [],
   "source": [
    "X_original = pd.concat([X_train, y_train.to_frame()], axis=1)"
   ]
  },
  {
   "cell_type": "markdown",
   "metadata": {},
   "source": [
    "# Synthesizer Model"
   ]
  },
  {
   "cell_type": "code",
   "execution_count": 5,
   "metadata": {},
   "outputs": [
    {
     "data": {
      "text/plain": [
       "{'Time': {'sdtype': 'numerical'},\n",
       " 'V1': {'sdtype': 'numerical'},\n",
       " 'V2': {'sdtype': 'numerical'},\n",
       " 'V3': {'sdtype': 'numerical'},\n",
       " 'V4': {'sdtype': 'numerical'},\n",
       " 'V5': {'sdtype': 'numerical'},\n",
       " 'V6': {'sdtype': 'numerical'},\n",
       " 'V7': {'sdtype': 'numerical'},\n",
       " 'V8': {'sdtype': 'numerical'},\n",
       " 'V9': {'sdtype': 'numerical'},\n",
       " 'V10': {'sdtype': 'numerical'},\n",
       " 'V11': {'sdtype': 'numerical'},\n",
       " 'V12': {'sdtype': 'numerical'},\n",
       " 'V13': {'sdtype': 'numerical'},\n",
       " 'V14': {'sdtype': 'numerical'},\n",
       " 'V15': {'sdtype': 'numerical'},\n",
       " 'V16': {'sdtype': 'numerical'},\n",
       " 'V17': {'sdtype': 'numerical'},\n",
       " 'V18': {'sdtype': 'numerical'},\n",
       " 'V19': {'sdtype': 'numerical'},\n",
       " 'V20': {'sdtype': 'numerical'},\n",
       " 'V21': {'sdtype': 'numerical'},\n",
       " 'V22': {'sdtype': 'numerical'},\n",
       " 'V23': {'sdtype': 'numerical'},\n",
       " 'V24': {'sdtype': 'numerical'},\n",
       " 'V25': {'sdtype': 'numerical'},\n",
       " 'V26': {'sdtype': 'numerical'},\n",
       " 'V27': {'sdtype': 'numerical'},\n",
       " 'V28': {'sdtype': 'numerical'},\n",
       " 'Amount': {'sdtype': 'numerical'},\n",
       " 'Class': {'sdtype': 'categorical'}}"
      ]
     },
     "execution_count": 5,
     "metadata": {},
     "output_type": "execute_result"
    }
   ],
   "source": [
    "from sdv.metadata import SingleTableMetadata\n",
    "\n",
    "metadata = SingleTableMetadata()\n",
    "metadata.detect_from_dataframe(X_original)\n",
    "metadata.columns"
   ]
  },
  {
   "cell_type": "code",
   "execution_count": 6,
   "metadata": {},
   "outputs": [
    {
     "name": "stderr",
     "output_type": "stream",
     "text": [
      "/home/tsmn/anaconda3/envs/gan12/lib/python3.12/site-packages/sdv/single_table/base.py:120: FutureWarning: The 'SingleTableMetadata' is deprecated. Please use the new 'Metadata' class for synthesizers.\n",
      "  warnings.warn(DEPRECATION_MSG, FutureWarning)\n",
      "/home/tsmn/anaconda3/envs/gan12/lib/python3.12/site-packages/sdv/single_table/base.py:105: UserWarning: We strongly recommend saving the metadata using 'save_to_json' for replicability in future SDV versions.\n",
      "  warnings.warn(\n",
      "Gen. (-0.34) | Discrim. (-0.27): 100%|██████████| 300/300 [57:01<00:00, 11.40s/it]\n"
     ]
    }
   ],
   "source": [
    "from sdv.single_table import CTGANSynthesizer\n",
    "\n",
    "ctgan = CTGANSynthesizer(metadata, epochs=300, verbose=True)\n",
    "\n",
    "ctgan.fit(X_original) "
   ]
  },
  {
   "cell_type": "code",
   "execution_count": 11,
   "metadata": {},
   "outputs": [
    {
     "data": {
      "text/plain": [
       "'../../models/creditcard/CTGAN/main.pth'"
      ]
     },
     "execution_count": 11,
     "metadata": {},
     "output_type": "execute_result"
    }
   ],
   "source": [
    "from src.synthesizers import save_model\n",
    "\n",
    "save_model(ctgan, synthesizer_type='CTGAN', dataset_name='creditcard', folder_path=\"../../models\", model_name='main')"
   ]
  },
  {
   "cell_type": "code",
   "execution_count": 6,
   "metadata": {},
   "outputs": [
    {
     "name": "stderr",
     "output_type": "stream",
     "text": [
      "/tmp/ipykernel_6978/247665661.py:3: FutureWarning: You are using `torch.load` with `weights_only=False` (the current default value), which uses the default pickle module implicitly. It is possible to construct malicious pickle data which will execute arbitrary code during unpickling (See https://github.com/pytorch/pytorch/blob/main/SECURITY.md#untrusted-models for more details). In a future release, the default value for `weights_only` will be flipped to `True`. This limits the functions that could be executed during unpickling. Arbitrary objects will no longer be allowed to be loaded via this mode unless they are explicitly allowlisted by the user via `torch.serialization.add_safe_globals`. We recommend you start setting `weights_only=True` for any use case where you don't have full control of the loaded file. Please open an issue on GitHub for any issues related to this experimental feature.\n",
      "  synthesizer: CTGANSynthesizer = torch.load('../../models/creditcard/CTGAN/main.pth')\n"
     ]
    }
   ],
   "source": [
    "from sdv.single_table import CTGANSynthesizer\n",
    "\n",
    "synthesizer: CTGANSynthesizer = torch.load('../../models/creditcard/CTGAN/main.pth')"
   ]
  },
  {
   "cell_type": "code",
   "execution_count": 7,
   "metadata": {},
   "outputs": [
    {
     "name": "stderr",
     "output_type": "stream",
     "text": [
      "Sampling conditions: 100%|██████████| 227057/227057 [00:16<00:00, 13630.32it/s]\n"
     ]
    }
   ],
   "source": [
    "import sdv\n",
    "\n",
    "num_rows_to_generate = len(X_original[X_original['Class'] == 0]) - len(X_original[X_original['Class'] == 1])\n",
    "\n",
    "minority_class = synthesizer.sample_from_conditions(conditions=[sdv.sampling.Condition(column_values={'Class': 1}, num_rows=num_rows_to_generate)])"
   ]
  },
  {
   "cell_type": "code",
   "execution_count": 15,
   "metadata": {},
   "outputs": [],
   "source": [
    "synhtetic_dataset = pd.concat([X_original, minority_class], axis=0)\n",
    "X_synhtetic, y_synhtetic = synhtetic_dataset.iloc[:, :-1], synhtetic_dataset.iloc[:, -1]"
   ]
  },
  {
   "cell_type": "markdown",
   "metadata": {},
   "source": [
    "# Train Set"
   ]
  },
  {
   "cell_type": "code",
   "execution_count": 19,
   "metadata": {},
   "outputs": [
    {
     "name": "stdout",
     "output_type": "stream",
     "text": [
      "F1:     0.8449\n",
      "Precision:     0.8876\n",
      "Recall:     0.8061\n"
     ]
    }
   ],
   "source": [
    "from xgboost import XGBClassifier\n",
    "from sklearn.metrics import f1_score, precision_score, recall_score\n",
    "\n",
    "original_model = XGBClassifier(device=device, verbosity=2)\n",
    "\n",
    "original_model.fit(X_train, y_train)\n",
    "prediction = original_model.predict(X_test)\n",
    "\n",
    "\n",
    "print(f'F1: {f1_score(y_true=y_test, y_pred=prediction):>10.4f}')\n",
    "print(f'Precision: {precision_score(y_true=y_test, y_pred=prediction):>10.4f}')\n",
    "print(f'Recall: {recall_score(y_true=y_test, y_pred=prediction):>10.4f}')"
   ]
  },
  {
   "cell_type": "code",
   "execution_count": 20,
   "metadata": {},
   "outputs": [
    {
     "name": "stdout",
     "output_type": "stream",
     "text": [
      "F1:     0.6052\n",
      "Precision:     0.4740\n",
      "Recall:     0.8367\n"
     ]
    }
   ],
   "source": [
    "synhtetic_model = XGBClassifier(device=device, verbosity=2)\n",
    "\n",
    "synhtetic_model.fit(X_synhtetic, y_synhtetic)\n",
    "prediction = synhtetic_model.predict(X_test)\n",
    "\n",
    "\n",
    "print(f'F1: {f1_score(y_true=y_test, y_pred=prediction):>10.4f}')\n",
    "print(f'Precision: {precision_score(y_true=y_test, y_pred=prediction):>10.4f}')\n",
    "print(f'Recall: {recall_score(y_true=y_test, y_pred=prediction):>10.4f}')"
   ]
  },
  {
   "cell_type": "code",
   "execution_count": null,
   "metadata": {},
   "outputs": [],
   "source": []
  }
 ],
 "metadata": {
  "kernelspec": {
   "display_name": "gan12",
   "language": "python",
   "name": "python3"
  },
  "language_info": {
   "codemirror_mode": {
    "name": "ipython",
    "version": 3
   },
   "file_extension": ".py",
   "mimetype": "text/x-python",
   "name": "python",
   "nbconvert_exporter": "python",
   "pygments_lexer": "ipython3",
   "version": "3.12.2"
  }
 },
 "nbformat": 4,
 "nbformat_minor": 2
}
