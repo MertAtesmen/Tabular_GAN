{
 "cells": [
  {
   "cell_type": "code",
   "execution_count": 1,
   "metadata": {},
   "outputs": [
    {
     "name": "stdout",
     "output_type": "stream",
     "text": [
      "Device: cuda\n"
     ]
    }
   ],
   "source": [
    "import matplotlib.pyplot as plt\n",
    "import seaborn as sns\n",
    "import numpy as np\n",
    "import pandas as pd\n",
    "import torch\n",
    "import os\n",
    "from pathlib import Path\n",
    "\n",
    "device = \"cuda\" if torch.cuda.is_available() else \"cpu\"\n",
    "print(f'Device: {device}')\n",
    "\n",
    "data_folder = Path(\"../../data\")\n",
    "\n",
    "# Necessary for notebook to see src package\n",
    "import sys\n",
    "sys.path.append('../..')"
   ]
  },
  {
   "cell_type": "code",
   "execution_count": 19,
   "metadata": {},
   "outputs": [],
   "source": [
    "classification_datasets = [\n",
    "    'Adult',\n",
    "    'Covertype',\n",
    "    'Credit',\n",
    "    'Intrusion',\n",
    "    'Loan'\n",
    "]\n",
    "\n",
    "regression_datasets = [\n",
    "    'King',\n",
    "    'Insurance'\n",
    "]"
   ]
  },
  {
   "cell_type": "code",
   "execution_count": 33,
   "metadata": {},
   "outputs": [],
   "source": [
    "def load_evaluation(dataset_name: str, model_name: str):\n",
    "    evaluations = pd.read_csv(data_folder / dataset_name / model_name / 'evaluations.csv')\n",
    "    return evaluations\n",
    "\n",
    "def mean_all_evaluations(model_name: str):\n",
    "    evaluations = pd.DataFrame()\n",
    "    datasets = classification_datasets + regression_datasets\n",
    "    \n",
    "    for dataset in datasets:\n",
    "        evaluation = load_evaluation(dataset, model_name)\n",
    "        evaluation = evaluation.mean(axis=0).to_frame().T  \n",
    "        evaluations= pd.concat([evaluations, evaluation], ignore_index=True)\n",
    "\n",
    "    evaluations.index=datasets\n",
    "    return evaluations\n",
    "\n",
    "def mean_all_datasets(model_name: str):\n",
    "    regression_evaluations = pd.DataFrame()\n",
    "    classification_evaluations = pd.DataFrame()\n",
    "      \n",
    "    for dataset in classification_datasets:\n",
    "        evaluation = load_evaluation(dataset, model_name)\n",
    "        evaluation = evaluation.mean(axis=0).to_frame().T  \n",
    "        classification_evaluations= pd.concat([classification_evaluations, evaluation], ignore_index=True)\n",
    "        \n",
    "    classification_evaluations = classification_evaluations.mean(axis=0).to_frame().T\n",
    "        \n",
    "    \n",
    "    for dataset in regression_datasets:\n",
    "        evaluation = load_evaluation(dataset, model_name)\n",
    "        evaluation = evaluation.mean(axis=0).to_frame().T  \n",
    "        regression_evaluations= pd.concat([regression_evaluations, evaluation], ignore_index=True)\n",
    "        \n",
    "    regression_evaluations = regression_evaluations.mean(axis=0).to_frame().T\n",
    "    \n",
    "    evaluations = pd.concat([classification_evaluations, regression_evaluations], ignore_index=True)\n",
    "    evaluations.index = ['Classification', 'Regression']\n",
    "    \n",
    "    return evaluations\n",
    "        "
   ]
  },
  {
   "cell_type": "code",
   "execution_count": null,
   "metadata": {},
   "outputs": [
    {
     "data": {
      "text/html": [
       "<div>\n",
       "<style scoped>\n",
       "    .dataframe tbody tr th:only-of-type {\n",
       "        vertical-align: middle;\n",
       "    }\n",
       "\n",
       "    .dataframe tbody tr th {\n",
       "        vertical-align: top;\n",
       "    }\n",
       "\n",
       "    .dataframe thead th {\n",
       "        text-align: right;\n",
       "    }\n",
       "</style>\n",
       "<table border=\"1\" class=\"dataframe\">\n",
       "  <thead>\n",
       "    <tr style=\"text-align: right;\">\n",
       "      <th></th>\n",
       "      <th>JSD</th>\n",
       "      <th>WD</th>\n",
       "      <th>PCD</th>\n",
       "      <th>PS</th>\n",
       "    </tr>\n",
       "  </thead>\n",
       "  <tbody>\n",
       "    <tr>\n",
       "      <th>Adult</th>\n",
       "      <td>0.090289</td>\n",
       "      <td>0.013946</td>\n",
       "      <td>0.278555</td>\n",
       "      <td>0.026662</td>\n",
       "    </tr>\n",
       "    <tr>\n",
       "      <th>Covertype</th>\n",
       "      <td>0.037994</td>\n",
       "      <td>0.040275</td>\n",
       "      <td>2.595536</td>\n",
       "      <td>0.094677</td>\n",
       "    </tr>\n",
       "    <tr>\n",
       "      <th>Credit</th>\n",
       "      <td>0.324848</td>\n",
       "      <td>0.019207</td>\n",
       "      <td>7.827724</td>\n",
       "      <td>0.063478</td>\n",
       "    </tr>\n",
       "    <tr>\n",
       "      <th>Intrusion</th>\n",
       "      <td>0.072686</td>\n",
       "      <td>0.040289</td>\n",
       "      <td>NaN</td>\n",
       "      <td>0.009038</td>\n",
       "    </tr>\n",
       "    <tr>\n",
       "      <th>Loan</th>\n",
       "      <td>0.078797</td>\n",
       "      <td>0.043769</td>\n",
       "      <td>NaN</td>\n",
       "      <td>0.033401</td>\n",
       "    </tr>\n",
       "    <tr>\n",
       "      <th>King</th>\n",
       "      <td>0.210336</td>\n",
       "      <td>0.027672</td>\n",
       "      <td>NaN</td>\n",
       "      <td>0.051431</td>\n",
       "    </tr>\n",
       "    <tr>\n",
       "      <th>Insurance</th>\n",
       "      <td>0.053425</td>\n",
       "      <td>0.095553</td>\n",
       "      <td>NaN</td>\n",
       "      <td>0.036563</td>\n",
       "    </tr>\n",
       "  </tbody>\n",
       "</table>\n",
       "</div>"
      ],
      "text/plain": [
       "                JSD        WD       PCD        PS\n",
       "Adult      0.090289  0.013946  0.278555  0.026662\n",
       "Covertype  0.037994  0.040275  2.595536  0.094677\n",
       "Credit     0.324848  0.019207  7.827724  0.063478\n",
       "Intrusion  0.072686  0.040289       NaN  0.009038\n",
       "Loan       0.078797  0.043769       NaN  0.033401\n",
       "King       0.210336  0.027672       NaN  0.051431\n",
       "Insurance  0.053425  0.095553       NaN  0.036563"
      ]
     },
     "execution_count": 34,
     "metadata": {},
     "output_type": "execute_result"
    }
   ],
   "source": [
    "mean_all_evaluations('CTGAN')"
   ]
  },
  {
   "cell_type": "code",
   "execution_count": null,
   "metadata": {},
   "outputs": [],
   "source": []
  },
  {
   "cell_type": "code",
   "execution_count": 35,
   "metadata": {},
   "outputs": [
    {
     "data": {
      "text/html": [
       "<div>\n",
       "<style scoped>\n",
       "    .dataframe tbody tr th:only-of-type {\n",
       "        vertical-align: middle;\n",
       "    }\n",
       "\n",
       "    .dataframe tbody tr th {\n",
       "        vertical-align: top;\n",
       "    }\n",
       "\n",
       "    .dataframe thead th {\n",
       "        text-align: right;\n",
       "    }\n",
       "</style>\n",
       "<table border=\"1\" class=\"dataframe\">\n",
       "  <thead>\n",
       "    <tr style=\"text-align: right;\">\n",
       "      <th></th>\n",
       "      <th>JSD</th>\n",
       "      <th>WD</th>\n",
       "      <th>PCD</th>\n",
       "      <th>PS</th>\n",
       "    </tr>\n",
       "  </thead>\n",
       "  <tbody>\n",
       "    <tr>\n",
       "      <th>Classification</th>\n",
       "      <td>0.120923</td>\n",
       "      <td>0.031497</td>\n",
       "      <td>3.567272</td>\n",
       "      <td>0.045451</td>\n",
       "    </tr>\n",
       "    <tr>\n",
       "      <th>Regression</th>\n",
       "      <td>0.131881</td>\n",
       "      <td>0.061612</td>\n",
       "      <td>NaN</td>\n",
       "      <td>0.043997</td>\n",
       "    </tr>\n",
       "  </tbody>\n",
       "</table>\n",
       "</div>"
      ],
      "text/plain": [
       "                     JSD        WD       PCD        PS\n",
       "Classification  0.120923  0.031497  3.567272  0.045451\n",
       "Regression      0.131881  0.061612       NaN  0.043997"
      ]
     },
     "execution_count": 35,
     "metadata": {},
     "output_type": "execute_result"
    }
   ],
   "source": [
    "mean_all_datasets('CTGAN')"
   ]
  },
  {
   "cell_type": "code",
   "execution_count": 37,
   "metadata": {},
   "outputs": [
    {
     "data": {
      "text/plain": [
       "0.06994149999999999"
      ]
     },
     "execution_count": 37,
     "metadata": {},
     "output_type": "execute_result"
    }
   ],
   "source": [
    "(0.090289 + 0.037994 + 0.072686 + 0.078797) / 4"
   ]
  },
  {
   "cell_type": "code",
   "execution_count": null,
   "metadata": {},
   "outputs": [],
   "source": []
  }
 ],
 "metadata": {
  "kernelspec": {
   "display_name": "gan12",
   "language": "python",
   "name": "python3"
  },
  "language_info": {
   "codemirror_mode": {
    "name": "ipython",
    "version": 3
   },
   "file_extension": ".py",
   "mimetype": "text/x-python",
   "name": "python",
   "nbconvert_exporter": "python",
   "pygments_lexer": "ipython3",
   "version": "3.12.2"
  }
 },
 "nbformat": 4,
 "nbformat_minor": 2
}
