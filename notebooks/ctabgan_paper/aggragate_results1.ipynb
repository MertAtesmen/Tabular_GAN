{
 "cells": [
  {
   "cell_type": "code",
   "execution_count": 5,
   "metadata": {},
   "outputs": [
    {
     "name": "stdout",
     "output_type": "stream",
     "text": [
      "Namespace(dataset=None, model='CTGANSynthesizer', optuna=False, no_compute=False, o='notebooks/ctabgan_paper')\n",
      "Adult                                                                           \n",
      "  0%|                                                     | 0/7 [00:00<?, ?it/s]/home/tsmn/anaconda3/envs/gan12/lib/python3.12/site-packages/sklearn/linear_model/_logistic.py:469: ConvergenceWarning: lbfgs failed to converge (status=1):\n",
      "STOP: TOTAL NO. of ITERATIONS REACHED LIMIT.\n",
      "\n",
      "Increase the number of iterations (max_iter) or scale the data as shown in:\n",
      "    https://scikit-learn.org/stable/modules/preprocessing.html\n",
      "Please also refer to the documentation for alternative solver options:\n",
      "    https://scikit-learn.org/stable/modules/linear_model.html#logistic-regression\n",
      "  n_iter_i = _check_optimize_result(\n",
      "/home/tsmn/anaconda3/envs/gan12/lib/python3.12/site-packages/sklearn/linear_model/_logistic.py:469: ConvergenceWarning: lbfgs failed to converge (status=1):\n",
      "STOP: TOTAL NO. of ITERATIONS REACHED LIMIT.\n",
      "\n",
      "Increase the number of iterations (max_iter) or scale the data as shown in:\n",
      "    https://scikit-learn.org/stable/modules/preprocessing.html\n",
      "Please also refer to the documentation for alternative solver options:\n",
      "    https://scikit-learn.org/stable/modules/linear_model.html#logistic-regression\n",
      "  n_iter_i = _check_optimize_result(\n",
      "/home/tsmn/anaconda3/envs/gan12/lib/python3.12/site-packages/sklearn/linear_model/_logistic.py:469: ConvergenceWarning: lbfgs failed to converge (status=1):\n",
      "STOP: TOTAL NO. of ITERATIONS REACHED LIMIT.\n",
      "\n",
      "Increase the number of iterations (max_iter) or scale the data as shown in:\n",
      "    https://scikit-learn.org/stable/modules/preprocessing.html\n",
      "Please also refer to the documentation for alternative solver options:\n",
      "    https://scikit-learn.org/stable/modules/linear_model.html#logistic-regression\n",
      "  n_iter_i = _check_optimize_result(\n",
      "Covertype                                                                       \n",
      " 14%|██████▍                                      | 1/7 [00:12<01:13, 12.30s/it]/home/tsmn/anaconda3/envs/gan12/lib/python3.12/site-packages/sklearn/linear_model/_logistic.py:469: ConvergenceWarning: lbfgs failed to converge (status=1):\n",
      "STOP: TOTAL NO. of ITERATIONS REACHED LIMIT.\n",
      "\n",
      "Increase the number of iterations (max_iter) or scale the data as shown in:\n",
      "    https://scikit-learn.org/stable/modules/preprocessing.html\n",
      "Please also refer to the documentation for alternative solver options:\n",
      "    https://scikit-learn.org/stable/modules/linear_model.html#logistic-regression\n",
      "  n_iter_i = _check_optimize_result(\n",
      "Credit                                                                          \n",
      "Intrusion                                                                       \n",
      " 43%|███████████████████▎                         | 3/7 [00:30<00:37,  9.48s/it]/home/tsmn/anaconda3/envs/gan12/lib/python3.12/site-packages/sklearn/linear_model/_logistic.py:469: ConvergenceWarning: lbfgs failed to converge (status=1):\n",
      "STOP: TOTAL NO. of ITERATIONS REACHED LIMIT.\n",
      "\n",
      "Increase the number of iterations (max_iter) or scale the data as shown in:\n",
      "    https://scikit-learn.org/stable/modules/preprocessing.html\n",
      "Please also refer to the documentation for alternative solver options:\n",
      "    https://scikit-learn.org/stable/modules/linear_model.html#logistic-regression\n",
      "  n_iter_i = _check_optimize_result(\n",
      "/home/tsmn/anaconda3/envs/gan12/lib/python3.12/site-packages/sklearn/linear_model/_logistic.py:469: ConvergenceWarning: lbfgs failed to converge (status=1):\n",
      "STOP: TOTAL NO. of ITERATIONS REACHED LIMIT.\n",
      "\n",
      "Increase the number of iterations (max_iter) or scale the data as shown in:\n",
      "    https://scikit-learn.org/stable/modules/preprocessing.html\n",
      "Please also refer to the documentation for alternative solver options:\n",
      "    https://scikit-learn.org/stable/modules/linear_model.html#logistic-regression\n",
      "  n_iter_i = _check_optimize_result(\n",
      "/home/tsmn/anaconda3/envs/gan12/lib/python3.12/site-packages/sklearn/linear_model/_logistic.py:469: ConvergenceWarning: lbfgs failed to converge (status=1):\n",
      "STOP: TOTAL NO. of ITERATIONS REACHED LIMIT.\n",
      "\n",
      "Increase the number of iterations (max_iter) or scale the data as shown in:\n",
      "    https://scikit-learn.org/stable/modules/preprocessing.html\n",
      "Please also refer to the documentation for alternative solver options:\n",
      "    https://scikit-learn.org/stable/modules/linear_model.html#logistic-regression\n",
      "  n_iter_i = _check_optimize_result(\n",
      "Loan                                                                            \n",
      "King                                                                            \n",
      " 71%|████████████████████████████████▏            | 5/7 [00:47<00:16,  8.14s/it]/home/tsmn/anaconda3/envs/gan12/lib/python3.12/site-packages/sklearn/linear_model/_logistic.py:469: ConvergenceWarning: lbfgs failed to converge (status=1):\n",
      "STOP: TOTAL NO. of ITERATIONS REACHED LIMIT.\n",
      "\n",
      "Increase the number of iterations (max_iter) or scale the data as shown in:\n",
      "    https://scikit-learn.org/stable/modules/preprocessing.html\n",
      "Please also refer to the documentation for alternative solver options:\n",
      "    https://scikit-learn.org/stable/modules/linear_model.html#logistic-regression\n",
      "  n_iter_i = _check_optimize_result(\n",
      "/home/tsmn/anaconda3/envs/gan12/lib/python3.12/site-packages/sklearn/linear_model/_logistic.py:469: ConvergenceWarning: lbfgs failed to converge (status=1):\n",
      "STOP: TOTAL NO. of ITERATIONS REACHED LIMIT.\n",
      "\n",
      "Increase the number of iterations (max_iter) or scale the data as shown in:\n",
      "    https://scikit-learn.org/stable/modules/preprocessing.html\n",
      "Please also refer to the documentation for alternative solver options:\n",
      "    https://scikit-learn.org/stable/modules/linear_model.html#logistic-regression\n",
      "  n_iter_i = _check_optimize_result(\n",
      "/home/tsmn/anaconda3/envs/gan12/lib/python3.12/site-packages/sklearn/linear_model/_logistic.py:469: ConvergenceWarning: lbfgs failed to converge (status=1):\n",
      "STOP: TOTAL NO. of ITERATIONS REACHED LIMIT.\n",
      "\n",
      "Increase the number of iterations (max_iter) or scale the data as shown in:\n",
      "    https://scikit-learn.org/stable/modules/preprocessing.html\n",
      "Please also refer to the documentation for alternative solver options:\n",
      "    https://scikit-learn.org/stable/modules/linear_model.html#logistic-regression\n",
      "  n_iter_i = _check_optimize_result(\n",
      "Insurance                                                                       \n",
      "100%|█████████████████████████████████████████████| 7/7 [00:54<00:00,  7.85s/it]\n",
      "Adult                                                                           \n",
      "Covertype                                                                       \n",
      "Credit                                                                          \n",
      "Intrusion                                                                       \n",
      "Loan                                                                            \n",
      "King                                                                            \n",
      "Insurance                                                                       \n",
      "100%|███████████████████████████████████████████| 7/7 [00:00<00:00, 3048.19it/s]\n"
     ]
    }
   ],
   "source": [
    "! cd ../.. ; source config.sh ;python scripts/eval_sim.py -m CTGANSynthesizer -o notebooks/ctabgan_paper"
   ]
  },
  {
   "cell_type": "code",
   "execution_count": 6,
   "metadata": {},
   "outputs": [],
   "source": [
    "import json\n",
    "import numpy as np\n",
    "\n",
    "classification_datasets = [\n",
    "    'Adult',\n",
    "    'Covertype',\n",
    "    'Credit',\n",
    "    'Intrusion',\n",
    "    'Loan'\n",
    "]\n",
    "\n",
    "regression_datasets = [\n",
    "    'King',\n",
    "    'Insurance'\n",
    "]\n",
    "\n",
    "with open('report.json', 'r') as file:\n",
    "    report = json.load(file)"
   ]
  },
  {
   "cell_type": "code",
   "execution_count": 7,
   "metadata": {},
   "outputs": [
    {
     "name": "stdout",
     "output_type": "stream",
     "text": [
      "                 JSD      WD       PCD      PS      \n",
      "King           : 0.256    0.032   1.438    0.056   \n",
      "Insurance      : 0.052    0.089   0.558    0.044   \n",
      "Adult          : 0.090    0.014   0.158    0.028   \n",
      "Covertype      : 0.035    0.045   2.653    0.091   \n",
      "Credit         : 0.325    0.019   8.143    0.061   \n",
      "Intrusion      : 0.069    0.041   2.462    0.009   \n",
      "Loan           : 0.080    0.110   1.419    0.183   \n"
     ]
    }
   ],
   "source": [
    "print(f'{\" \" * 15}  {\"JSD\":<8} {\"WD\":<8} {\"PCD\":<8} {\"PS\":<8}')\n",
    "\n",
    "for dataset in regression_datasets + classification_datasets:\n",
    "    print(f'{dataset:<15}: {report[\"results\"][dataset][\"JSD\"]:<8.3f} {report[\"results\"][dataset][\"WD\"]:<8.3f}'\n",
    "          f'{report[\"results\"][dataset][\"PCD\"]:<8.3f} {report[\"results\"][dataset][\"PS\"]:<8.3f}')"
   ]
  },
  {
   "cell_type": "code",
   "execution_count": 8,
   "metadata": {},
   "outputs": [
    {
     "name": "stdout",
     "output_type": "stream",
     "text": [
      "                 JSD      WD       PCD      PS      \n",
      "Regression     : 0.154    0.060   0.998    0.050   \n",
      "Classification : 0.120    0.046   2.967    0.074   \n"
     ]
    }
   ],
   "source": [
    "print(f'{\" \" * 15}  {\"JSD\":<8} {\"WD\":<8} {\"PCD\":<8} {\"PS\":<8}')\n",
    "\n",
    "\n",
    "jsd_values = []\n",
    "wd_values = []\n",
    "pcd_values = []\n",
    "ps_values = []\n",
    "\n",
    "for dataset in regression_datasets:\n",
    "    jsd_values.append(report[\"results\"][dataset]['JSD'])\n",
    "    wd_values.append(report[\"results\"][dataset]['WD'])\n",
    "    pcd_values.append(report[\"results\"][dataset]['PCD'])\n",
    "    ps_values.append(report[\"results\"][dataset]['PS'])\n",
    "    \n",
    "print(f'{\"Regression\":<15}: {np.mean(jsd_values):<8.3f} {np.mean(wd_values):<8.3f}'\n",
    "          f'{np.mean(pcd_values):<8.3f} {np.mean(ps_values):<8.3f}')\n",
    "\n",
    "\n",
    "\n",
    "jsd_values.clear()\n",
    "wd_values.clear()\n",
    "pcd_values.clear()\n",
    "ps_values.clear()\n",
    "\n",
    "for dataset in classification_datasets:\n",
    "    jsd_values.append(report[\"results\"][dataset]['JSD'])\n",
    "    wd_values.append(report[\"results\"][dataset]['WD'])\n",
    "    pcd_values.append(report[\"results\"][dataset]['PCD'])\n",
    "    ps_values.append(report[\"results\"][dataset]['PS'])\n",
    "    \n",
    "print(f'{\"Classification\":<15}: {np.mean(jsd_values):<8.3f} {np.mean(wd_values):<8.3f}'\n",
    "          f'{np.mean(pcd_values):<8.3f} {np.mean(ps_values):<8.3f}')"
   ]
  },
  {
   "cell_type": "code",
   "execution_count": null,
   "metadata": {},
   "outputs": [],
   "source": []
  }
 ],
 "metadata": {
  "kernelspec": {
   "display_name": "gan12",
   "language": "python",
   "name": "python3"
  },
  "language_info": {
   "codemirror_mode": {
    "name": "ipython",
    "version": 3
   },
   "file_extension": ".py",
   "mimetype": "text/x-python",
   "name": "python",
   "nbconvert_exporter": "python",
   "pygments_lexer": "ipython3",
   "version": "3.12.2"
  }
 },
 "nbformat": 4,
 "nbformat_minor": 2
}
