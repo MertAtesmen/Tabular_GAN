{
 "cells": [
  {
   "cell_type": "code",
   "execution_count": 36,
   "metadata": {},
   "outputs": [
    {
     "name": "stdout",
     "output_type": "stream",
     "text": [
      "Device: cuda\n"
     ]
    }
   ],
   "source": [
    "import matplotlib.pyplot as plt\n",
    "import seaborn as sns\n",
    "import numpy as np\n",
    "import pandas as pd\n",
    "import torch\n",
    "import os\n",
    "from pathlib import Path\n",
    "\n",
    "device = \"cuda\" if torch.cuda.is_available() else \"cpu\"\n",
    "print(f'Device: {device}')\n",
    "\n",
    "data_folder = Path(\"../../data\")\n",
    "\n",
    "# Necessary for notebook to see src package\n",
    "import sys\n",
    "sys.path.append('../..')"
   ]
  },
  {
   "cell_type": "markdown",
   "metadata": {},
   "source": [
    "# Load Dataset and Indices"
   ]
  },
  {
   "cell_type": "code",
   "execution_count": 38,
   "metadata": {},
   "outputs": [],
   "source": [
    "insurance_dataset = pd.read_csv(data_folder / 'Insurance' / 'data.csv')\n",
    "king_dataset = pd.read_csv(data_folder / 'King' / 'data.csv')\n",
    "\n",
    "insurance_train_idx = np.load(data_folder / 'Insurance' / 'train_idx.npy')\n",
    "insurance_test_idx = np.load(data_folder / 'Insurance' / 'test_idx.npy')\n",
    "king_train_idx = np.load(data_folder / 'King' / 'train_idx.npy')\n",
    "king_test_idx = np.load(data_folder / 'King' / 'test_idx.npy')"
   ]
  },
  {
   "cell_type": "markdown",
   "metadata": {},
   "source": [
    "# Train Test Split"
   ]
  },
  {
   "cell_type": "code",
   "execution_count": 39,
   "metadata": {},
   "outputs": [],
   "source": [
    "insurance_train, insurance_test = insurance_dataset.iloc[insurance_train_idx, :], insurance_dataset.iloc[insurance_test_idx, :]\n",
    "king_train, king_test = king_dataset.iloc[king_train_idx, :], king_dataset.iloc[king_test_idx, :]"
   ]
  },
  {
   "cell_type": "markdown",
   "metadata": {},
   "source": [
    "# Metadata For the CTGAN Synhtesizer"
   ]
  },
  {
   "cell_type": "code",
   "execution_count": 40,
   "metadata": {},
   "outputs": [],
   "source": [
    "from sdv.metadata import SingleTableMetadata\n",
    "\n",
    "insurance_metadata = SingleTableMetadata()\n",
    "insurance_metadata.detect_from_dataframe(insurance_train)\n",
    "\n",
    "king_metadata = SingleTableMetadata()\n",
    "king_metadata.detect_from_dataframe(king_train)"
   ]
  },
  {
   "cell_type": "code",
   "execution_count": 10,
   "metadata": {},
   "outputs": [
    {
     "name": "stderr",
     "output_type": "stream",
     "text": [
      "Gen. (0.00) | Discrim. (0.00):   0%|          | 0/300 [00:00<?, ?it/s]/home/tsmn/anaconda3/envs/gan12/lib/python3.12/site-packages/torch/autograd/graph.py:825: UserWarning: Attempting to run cuBLAS, but there was no current CUDA context! Attempting to set the primary context... (Triggered internally at /opt/conda/conda-bld/pytorch_1729647406761/work/aten/src/ATen/cuda/CublasHandlePool.cpp:135.)\n",
      "  return Variable._execution_engine.run_backward(  # Calls into the C++ engine to run the backward pass\n",
      "Gen. (-0.78) | Discrim. (0.02): 100%|██████████| 300/300 [00:29<00:00, 10.02it/s] \n"
     ]
    }
   ],
   "source": [
    "from sdv.single_table import CTGANSynthesizer\n",
    "\n",
    "insurance_synthesizer = CTGANSynthesizer(insurance_metadata, verbose=True)\n",
    "insurance_synthesizer.fit(insurance_train)"
   ]
  },
  {
   "cell_type": "code",
   "execution_count": 13,
   "metadata": {},
   "outputs": [
    {
     "name": "stderr",
     "output_type": "stream",
     "text": [
      "/home/tsmn/anaconda3/envs/gan12/lib/python3.12/site-packages/sdv/single_table/base.py:82: UserWarning: We strongly recommend saving the metadata using 'save_to_json' for replicability in future SDV versions.\n",
      "  warnings.warn(\n",
      "Gen. (-0.67) | Discrim. (-0.18): 100%|██████████| 300/300 [06:58<00:00,  1.39s/it]\n"
     ]
    }
   ],
   "source": [
    "king_synthesizer = CTGANSynthesizer(king_metadata, verbose=True)\n",
    "king_synthesizer.fit(king_train)"
   ]
  },
  {
   "cell_type": "code",
   "execution_count": 11,
   "metadata": {},
   "outputs": [],
   "source": [
    "from src.metrics.js_divergence import JSDivergence\n",
    "from src.metrics.wasserstein_distance import WassersteinDistance\n",
    "\n",
    "def evaluate_synnthetic_data(real_data: pd.DataFrame, synhtetic_data: pd.DataFrame, metadata):\n",
    "    jsd = JSDivergence.compute(real_data, synhtetic_data, metadata)\n",
    "    wd = WassersteinDistance.compute(real_data, synhtetic_data, metadata)\n",
    "    \n",
    "    return jsd, wd"
   ]
  },
  {
   "cell_type": "code",
   "execution_count": 33,
   "metadata": {},
   "outputs": [],
   "source": [
    "insurance_synthetic_data = insurance_synthesizer.sample(len(insurance_dataset))\n",
    "\n",
    "insurance_jsd, _ = evaluate_synnthetic_data(insurance_dataset, insurance_synthetic_data, insurance_metadata)"
   ]
  },
  {
   "cell_type": "code",
   "execution_count": 34,
   "metadata": {},
   "outputs": [],
   "source": [
    "king_synthetic_data = king_synthesizer.sample(len(king_dataset))\n",
    "\n",
    "king_jsd, _ = evaluate_synnthetic_data(king_dataset, king_synthetic_data, king_metadata)"
   ]
  },
  {
   "cell_type": "code",
   "execution_count": 35,
   "metadata": {},
   "outputs": [
    {
     "data": {
      "text/plain": [
       "0.13827951352221646"
      ]
     },
     "execution_count": 35,
     "metadata": {},
     "output_type": "execute_result"
    }
   ],
   "source": [
    "np.average([insurance_jsd, king_jsd])"
   ]
  },
  {
   "cell_type": "code",
   "execution_count": 41,
   "metadata": {},
   "outputs": [
    {
     "name": "stderr",
     "output_type": "stream",
     "text": [
      "/home/tsmn/anaconda3/envs/gan12/lib/python3.12/site-packages/sdv/single_table/base.py:82: UserWarning: We strongly recommend saving the metadata using 'save_to_json' for replicability in future SDV versions.\n",
      "  warnings.warn(\n"
     ]
    }
   ],
   "source": [
    "from sdv.single_table import CTGANSynthesizer\n",
    "\n",
    "insurance_synthesizer = CTGANSynthesizer(insurance_metadata, verbose=True)"
   ]
  },
  {
   "cell_type": "code",
   "execution_count": 49,
   "metadata": {},
   "outputs": [
    {
     "name": "stderr",
     "output_type": "stream",
     "text": [
      "Gen. (-1.29) | Discrim. (-0.02): 100%|██████████| 300/300 [00:17<00:00, 16.71it/s]\n"
     ]
    }
   ],
   "source": [
    "insurance_synthesizer.fit_processed_data(insurance_train)"
   ]
  },
  {
   "cell_type": "code",
   "execution_count": null,
   "metadata": {},
   "outputs": [
    {
     "data": {
      "text/html": [
       "<div>\n",
       "<style scoped>\n",
       "    .dataframe tbody tr th:only-of-type {\n",
       "        vertical-align: middle;\n",
       "    }\n",
       "\n",
       "    .dataframe tbody tr th {\n",
       "        vertical-align: top;\n",
       "    }\n",
       "\n",
       "    .dataframe thead th {\n",
       "        text-align: right;\n",
       "    }\n",
       "</style>\n",
       "<table border=\"1\" class=\"dataframe\">\n",
       "  <thead>\n",
       "    <tr style=\"text-align: right;\">\n",
       "      <th></th>\n",
       "      <th>age</th>\n",
       "      <th>sex</th>\n",
       "      <th>bmi</th>\n",
       "      <th>children</th>\n",
       "      <th>smoker</th>\n",
       "      <th>region</th>\n",
       "      <th>charges</th>\n",
       "    </tr>\n",
       "  </thead>\n",
       "  <tbody>\n",
       "    <tr>\n",
       "      <th>0</th>\n",
       "      <td>46</td>\n",
       "      <td>female</td>\n",
       "      <td>29.756</td>\n",
       "      <td>0</td>\n",
       "      <td>yes</td>\n",
       "      <td>southeast</td>\n",
       "      <td>10537.672763</td>\n",
       "    </tr>\n",
       "    <tr>\n",
       "      <th>1</th>\n",
       "      <td>41</td>\n",
       "      <td>male</td>\n",
       "      <td>26.065</td>\n",
       "      <td>0</td>\n",
       "      <td>no</td>\n",
       "      <td>southeast</td>\n",
       "      <td>29772.024859</td>\n",
       "    </tr>\n",
       "    <tr>\n",
       "      <th>2</th>\n",
       "      <td>39</td>\n",
       "      <td>male</td>\n",
       "      <td>28.726</td>\n",
       "      <td>3</td>\n",
       "      <td>no</td>\n",
       "      <td>northwest</td>\n",
       "      <td>13277.919676</td>\n",
       "    </tr>\n",
       "    <tr>\n",
       "      <th>3</th>\n",
       "      <td>44</td>\n",
       "      <td>female</td>\n",
       "      <td>25.040</td>\n",
       "      <td>4</td>\n",
       "      <td>no</td>\n",
       "      <td>northeast</td>\n",
       "      <td>7071.493423</td>\n",
       "    </tr>\n",
       "    <tr>\n",
       "      <th>4</th>\n",
       "      <td>45</td>\n",
       "      <td>female</td>\n",
       "      <td>35.685</td>\n",
       "      <td>1</td>\n",
       "      <td>yes</td>\n",
       "      <td>southeast</td>\n",
       "      <td>34126.484358</td>\n",
       "    </tr>\n",
       "    <tr>\n",
       "      <th>...</th>\n",
       "      <td>...</td>\n",
       "      <td>...</td>\n",
       "      <td>...</td>\n",
       "      <td>...</td>\n",
       "      <td>...</td>\n",
       "      <td>...</td>\n",
       "      <td>...</td>\n",
       "    </tr>\n",
       "    <tr>\n",
       "      <th>95</th>\n",
       "      <td>64</td>\n",
       "      <td>male</td>\n",
       "      <td>30.176</td>\n",
       "      <td>2</td>\n",
       "      <td>no</td>\n",
       "      <td>northwest</td>\n",
       "      <td>6390.942452</td>\n",
       "    </tr>\n",
       "    <tr>\n",
       "      <th>96</th>\n",
       "      <td>50</td>\n",
       "      <td>male</td>\n",
       "      <td>37.035</td>\n",
       "      <td>5</td>\n",
       "      <td>no</td>\n",
       "      <td>southwest</td>\n",
       "      <td>15413.225633</td>\n",
       "    </tr>\n",
       "    <tr>\n",
       "      <th>97</th>\n",
       "      <td>18</td>\n",
       "      <td>female</td>\n",
       "      <td>39.365</td>\n",
       "      <td>0</td>\n",
       "      <td>yes</td>\n",
       "      <td>southeast</td>\n",
       "      <td>9575.497090</td>\n",
       "    </tr>\n",
       "    <tr>\n",
       "      <th>98</th>\n",
       "      <td>39</td>\n",
       "      <td>male</td>\n",
       "      <td>31.439</td>\n",
       "      <td>3</td>\n",
       "      <td>no</td>\n",
       "      <td>southwest</td>\n",
       "      <td>15856.577952</td>\n",
       "    </tr>\n",
       "    <tr>\n",
       "      <th>99</th>\n",
       "      <td>54</td>\n",
       "      <td>male</td>\n",
       "      <td>25.486</td>\n",
       "      <td>1</td>\n",
       "      <td>no</td>\n",
       "      <td>northwest</td>\n",
       "      <td>7490.620862</td>\n",
       "    </tr>\n",
       "  </tbody>\n",
       "</table>\n",
       "<p>100 rows × 7 columns</p>\n",
       "</div>"
      ],
      "text/plain": [
       "    age     sex     bmi  children smoker     region       charges\n",
       "0    46  female  29.756         0    yes  southeast  10537.672763\n",
       "1    41    male  26.065         0     no  southeast  29772.024859\n",
       "2    39    male  28.726         3     no  northwest  13277.919676\n",
       "3    44  female  25.040         4     no  northeast   7071.493423\n",
       "4    45  female  35.685         1    yes  southeast  34126.484358\n",
       "..  ...     ...     ...       ...    ...        ...           ...\n",
       "95   64    male  30.176         2     no  northwest   6390.942452\n",
       "96   50    male  37.035         5     no  southwest  15413.225633\n",
       "97   18  female  39.365         0    yes  southeast   9575.497090\n",
       "98   39    male  31.439         3     no  southwest  15856.577952\n",
       "99   54    male  25.486         1     no  northwest   7490.620862\n",
       "\n",
       "[100 rows x 7 columns]"
      ]
     },
     "execution_count": 50,
     "metadata": {},
     "output_type": "execute_result"
    }
   ],
   "source": []
  },
  {
   "cell_type": "code",
   "execution_count": null,
   "metadata": {},
   "outputs": [],
   "source": []
  }
 ],
 "metadata": {
  "kernelspec": {
   "display_name": "gan12",
   "language": "python",
   "name": "python3"
  },
  "language_info": {
   "codemirror_mode": {
    "name": "ipython",
    "version": 3
   },
   "file_extension": ".py",
   "mimetype": "text/x-python",
   "name": "python",
   "nbconvert_exporter": "python",
   "pygments_lexer": "ipython3",
   "version": "3.12.2"
  }
 },
 "nbformat": 4,
 "nbformat_minor": 2
}
